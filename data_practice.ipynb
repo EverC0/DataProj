{
  "cells": [
    {
      "cell_type": "markdown",
      "metadata": {
        "id": "oloXVHqZlXxb"
      },
      "source": [
        "Review:\n",
        "\n",
        "Table is called a dataframe short for df and a columm is called a series\n",
        "\n",
        "useful df functions:\n",
        "\n",
        ".head, .shape, .info, .describe\n",
        "\n",
        "to access specific column will use df_name[\"column name\"] and then filter rows as  dog[dogs[\"date of birth\"] > 50]\n",
        "\n",
        "for categricla data use the isin method to filter rows.\n",
        "\n",
        "sorting example:\n",
        "\n",
        "# Sort homelessness by descending family members\n",
        "homelessness_fam = homelessness.sort_values(\"family_members\", ascending=False)\n",
        "\n",
        "# Sort homelessness by region, then descending family members\n",
        "homelessness_reg_fam = homelessness.sort_values([\"region\", \"family_members\"], ascending=[True, False])\n",
        "\n",
        "# Print the top few rows\n",
        "print(homelessness_reg_fam.head())\n",
        "\n",
        "# Filter categorical data\n",
        "canu = [\"California\", \"Arizona\", \"Nevada\", \"Utah\"]\n",
        "\n",
        "mojave_homelessness = homelessness[homelessness[\"state\"].isin(canu)]\n",
        "\n",
        "print(mojave_homelessness)\n",
        "\n",
        "# Using filter and creating new columsn to find specific data to find \"Which state has the highest number of homeless individuals per 10,000 people in the state?\" Combine your new pandas skills to find out\n",
        "\n",
        "-> Create indiv_per_10k col as homeless individuals per 10k state pop\n",
        "\n",
        "homelessness[\"indiv_per_10k\"] = 10000 * homelessness[\"individuals\"] / homelessness[\"state_pop\"]\n",
        "\n",
        "-> Subset rows for indiv_per_10k greater than 20\n",
        "\n",
        "high_homelessness = homelessness[homelessness[\"indiv_per_10k\"] > 20]\n",
        "\n",
        "-> Sort high_homelessness by descending indiv_per_10k\n",
        "\n",
        "high_homelessness_srt = high_homelessness.sort_values(\"indiv_per_10k\", ascending=False)\n",
        "\n",
        "-> From high_homelessness_srt, select the state and indiv_per_10k cols\n",
        "\n",
        "result = high_homelessness_srt[[\"state\",\"indiv_per_10k\"]]\n",
        "\n",
        "-> See the result\n",
        "print(result)"
      ]
    },
    {
      "cell_type": "markdown",
      "metadata": {},
      "source": [
        "# More Advanced: Filtering Data & Apply Statistical Functions\n",
        "\n",
        "We can filter rows in a DataFrame based on a condition and then apply statistical functions to a specific column:\n",
        "\n",
        "df[df['condition']][column_name].statistics_function()\n",
        "\n",
        "# Grouping Data (Groupby)\n",
        "\n",
        "You can group data by a condition and calculate statistics within each group.\n",
        "\n",
        "This process is commonly referred to as \"split-apply-combine.\"\n",
        "\n",
        "df.groupby('condition')[column_name].statistics_function()\n",
        "\n",
        "\n",
        "\n"
      ]
    },
    {
      "cell_type": "markdown",
      "metadata": {
        "id": "MdZfHOV3laRO"
      },
      "source": [
        "Project:"
      ]
    },
    {
      "cell_type": "markdown",
      "metadata": {},
      "source": [
        "BIG Question: What influences sleep quality and how this contributes to a personas BMI level. Will take a look at how differnt variables relate and reflect the life quality. This is a very important aspect of life so now by learning through these various particapants will be able to find the best approach to improving someone life style.\n",
        "Questions?\n",
        "\n",
        "What drives somsone to have a normal bmi level?\n",
        "How does excerise and sleep levels relate to someones health?\n",
        "and more... "
      ]
    },
    {
      "cell_type": "code",
      "execution_count": 7,
      "metadata": {
        "id": "xPUwDDZccX6I"
      },
      "outputs": [],
      "source": [
        "import numpy as np #  particularly useful when dealing with arrays and matrices\n",
        "import pandas as pd #Pandas is a powerful data manipulation and analysis library built on top of NumPy.\n",
        "# It's particularly well-suited for handling structured data and is widely used in data science and machine learning workflows.\n",
        "import matplotlib.pyplot as plt\n",
        "import seaborn as sns\n"
      ]
    },
    {
      "cell_type": "markdown",
      "metadata": {
        "id": "us3k4oqshLTE"
      },
      "source": [
        "- Use scikit-learn for traditional machine learning tasks, rapid prototyping, small to medium-sized datasets, and standard preprocessing tasks.\n",
        "- Use TensorFlow for deep learning, handling large-scale datasets, production deployment, advanced machine learning techniques, and tasks requiring high flexibility and performance."
      ]
    },
    {
      "cell_type": "code",
      "execution_count": 8,
      "metadata": {
        "id": "W5b3ZloPgLWb"
      },
      "outputs": [],
      "source": [
        "from sklearn.model_selection import train_test_split, cross_val_score, StratifiedKFold\n",
        "from sklearn.preprocessing import StandardScaler\n",
        "from sklearn.neighbors import KNeighborsClassifier\n",
        "from sklearn.tree import DecisionTreeClassifier\n",
        "from sklearn.linear_model import LogisticRegression\n",
        "from sklearn.ensemble import RandomForestClassifier\n",
        "from sklearn.metrics import accuracy_score, classification_report, confusion_matrix"
      ]
    },
    {
      "cell_type": "markdown",
      "metadata": {
        "id": "3h2TeYRehKj_"
      },
      "source": [
        "# Visual Example and Classification Example:\n",
        "\n",
        "Task: Classify whether a customer will buy a product (Yes/No).\n",
        "Input Features: Age, Income, Browsing History.\n",
        "Output: \"Yes\" or \"No\".\n",
        "Regression Example:\n",
        "\n",
        "Task: Predict the price of a house.\n",
        "Input Features: Size of the house, Number of bedrooms, Location.\n",
        "Output: A continuous value representing the price of the house (e.g., $250,000)."
      ]
    },
    {
      "cell_type": "code",
      "execution_count": 9,
      "metadata": {
        "id": "IvqwoUnazA2h"
      },
      "outputs": [
        {
          "data": {
            "text/html": [
              "<div>\n",
              "<style scoped>\n",
              "    .dataframe tbody tr th:only-of-type {\n",
              "        vertical-align: middle;\n",
              "    }\n",
              "\n",
              "    .dataframe tbody tr th {\n",
              "        vertical-align: top;\n",
              "    }\n",
              "\n",
              "    .dataframe thead th {\n",
              "        text-align: right;\n",
              "    }\n",
              "</style>\n",
              "<table border=\"1\" class=\"dataframe\">\n",
              "  <thead>\n",
              "    <tr style=\"text-align: right;\">\n",
              "      <th></th>\n",
              "      <th>Person ID</th>\n",
              "      <th>Gender</th>\n",
              "      <th>Age</th>\n",
              "      <th>Occupation</th>\n",
              "      <th>Sleep Duration</th>\n",
              "      <th>Quality of Sleep</th>\n",
              "      <th>Physical Activity Level</th>\n",
              "      <th>Stress Level</th>\n",
              "      <th>BMI Category</th>\n",
              "      <th>Blood Pressure</th>\n",
              "      <th>Heart Rate</th>\n",
              "      <th>Daily Steps</th>\n",
              "      <th>Sleep Disorder</th>\n",
              "    </tr>\n",
              "  </thead>\n",
              "  <tbody>\n",
              "    <tr>\n",
              "      <th>0</th>\n",
              "      <td>1</td>\n",
              "      <td>Male</td>\n",
              "      <td>27</td>\n",
              "      <td>Software Engineer</td>\n",
              "      <td>6.1</td>\n",
              "      <td>6</td>\n",
              "      <td>42</td>\n",
              "      <td>6</td>\n",
              "      <td>Overweight</td>\n",
              "      <td>126/83</td>\n",
              "      <td>77</td>\n",
              "      <td>4200</td>\n",
              "      <td>None</td>\n",
              "    </tr>\n",
              "    <tr>\n",
              "      <th>1</th>\n",
              "      <td>2</td>\n",
              "      <td>Male</td>\n",
              "      <td>28</td>\n",
              "      <td>Doctor</td>\n",
              "      <td>6.2</td>\n",
              "      <td>6</td>\n",
              "      <td>60</td>\n",
              "      <td>8</td>\n",
              "      <td>Normal</td>\n",
              "      <td>125/80</td>\n",
              "      <td>75</td>\n",
              "      <td>10000</td>\n",
              "      <td>None</td>\n",
              "    </tr>\n",
              "    <tr>\n",
              "      <th>2</th>\n",
              "      <td>3</td>\n",
              "      <td>Male</td>\n",
              "      <td>28</td>\n",
              "      <td>Doctor</td>\n",
              "      <td>6.2</td>\n",
              "      <td>6</td>\n",
              "      <td>60</td>\n",
              "      <td>8</td>\n",
              "      <td>Normal</td>\n",
              "      <td>125/80</td>\n",
              "      <td>75</td>\n",
              "      <td>10000</td>\n",
              "      <td>None</td>\n",
              "    </tr>\n",
              "    <tr>\n",
              "      <th>3</th>\n",
              "      <td>4</td>\n",
              "      <td>Male</td>\n",
              "      <td>28</td>\n",
              "      <td>Sales Representative</td>\n",
              "      <td>5.9</td>\n",
              "      <td>4</td>\n",
              "      <td>30</td>\n",
              "      <td>8</td>\n",
              "      <td>Obese</td>\n",
              "      <td>140/90</td>\n",
              "      <td>85</td>\n",
              "      <td>3000</td>\n",
              "      <td>Sleep Apnea</td>\n",
              "    </tr>\n",
              "    <tr>\n",
              "      <th>4</th>\n",
              "      <td>5</td>\n",
              "      <td>Male</td>\n",
              "      <td>28</td>\n",
              "      <td>Sales Representative</td>\n",
              "      <td>5.9</td>\n",
              "      <td>4</td>\n",
              "      <td>30</td>\n",
              "      <td>8</td>\n",
              "      <td>Obese</td>\n",
              "      <td>140/90</td>\n",
              "      <td>85</td>\n",
              "      <td>3000</td>\n",
              "      <td>Sleep Apnea</td>\n",
              "    </tr>\n",
              "    <tr>\n",
              "      <th>...</th>\n",
              "      <td>...</td>\n",
              "      <td>...</td>\n",
              "      <td>...</td>\n",
              "      <td>...</td>\n",
              "      <td>...</td>\n",
              "      <td>...</td>\n",
              "      <td>...</td>\n",
              "      <td>...</td>\n",
              "      <td>...</td>\n",
              "      <td>...</td>\n",
              "      <td>...</td>\n",
              "      <td>...</td>\n",
              "      <td>...</td>\n",
              "    </tr>\n",
              "    <tr>\n",
              "      <th>369</th>\n",
              "      <td>370</td>\n",
              "      <td>Female</td>\n",
              "      <td>59</td>\n",
              "      <td>Nurse</td>\n",
              "      <td>8.1</td>\n",
              "      <td>9</td>\n",
              "      <td>75</td>\n",
              "      <td>3</td>\n",
              "      <td>Overweight</td>\n",
              "      <td>140/95</td>\n",
              "      <td>68</td>\n",
              "      <td>7000</td>\n",
              "      <td>Sleep Apnea</td>\n",
              "    </tr>\n",
              "    <tr>\n",
              "      <th>370</th>\n",
              "      <td>371</td>\n",
              "      <td>Female</td>\n",
              "      <td>59</td>\n",
              "      <td>Nurse</td>\n",
              "      <td>8.0</td>\n",
              "      <td>9</td>\n",
              "      <td>75</td>\n",
              "      <td>3</td>\n",
              "      <td>Overweight</td>\n",
              "      <td>140/95</td>\n",
              "      <td>68</td>\n",
              "      <td>7000</td>\n",
              "      <td>Sleep Apnea</td>\n",
              "    </tr>\n",
              "    <tr>\n",
              "      <th>371</th>\n",
              "      <td>372</td>\n",
              "      <td>Female</td>\n",
              "      <td>59</td>\n",
              "      <td>Nurse</td>\n",
              "      <td>8.1</td>\n",
              "      <td>9</td>\n",
              "      <td>75</td>\n",
              "      <td>3</td>\n",
              "      <td>Overweight</td>\n",
              "      <td>140/95</td>\n",
              "      <td>68</td>\n",
              "      <td>7000</td>\n",
              "      <td>Sleep Apnea</td>\n",
              "    </tr>\n",
              "    <tr>\n",
              "      <th>372</th>\n",
              "      <td>373</td>\n",
              "      <td>Female</td>\n",
              "      <td>59</td>\n",
              "      <td>Nurse</td>\n",
              "      <td>8.1</td>\n",
              "      <td>9</td>\n",
              "      <td>75</td>\n",
              "      <td>3</td>\n",
              "      <td>Overweight</td>\n",
              "      <td>140/95</td>\n",
              "      <td>68</td>\n",
              "      <td>7000</td>\n",
              "      <td>Sleep Apnea</td>\n",
              "    </tr>\n",
              "    <tr>\n",
              "      <th>373</th>\n",
              "      <td>374</td>\n",
              "      <td>Female</td>\n",
              "      <td>59</td>\n",
              "      <td>Nurse</td>\n",
              "      <td>8.1</td>\n",
              "      <td>9</td>\n",
              "      <td>75</td>\n",
              "      <td>3</td>\n",
              "      <td>Overweight</td>\n",
              "      <td>140/95</td>\n",
              "      <td>68</td>\n",
              "      <td>7000</td>\n",
              "      <td>Sleep Apnea</td>\n",
              "    </tr>\n",
              "  </tbody>\n",
              "</table>\n",
              "<p>374 rows × 13 columns</p>\n",
              "</div>"
            ],
            "text/plain": [
              "     Person ID  Gender  Age            Occupation  Sleep Duration  \\\n",
              "0            1    Male   27     Software Engineer             6.1   \n",
              "1            2    Male   28                Doctor             6.2   \n",
              "2            3    Male   28                Doctor             6.2   \n",
              "3            4    Male   28  Sales Representative             5.9   \n",
              "4            5    Male   28  Sales Representative             5.9   \n",
              "..         ...     ...  ...                   ...             ...   \n",
              "369        370  Female   59                 Nurse             8.1   \n",
              "370        371  Female   59                 Nurse             8.0   \n",
              "371        372  Female   59                 Nurse             8.1   \n",
              "372        373  Female   59                 Nurse             8.1   \n",
              "373        374  Female   59                 Nurse             8.1   \n",
              "\n",
              "     Quality of Sleep  Physical Activity Level  Stress Level BMI Category  \\\n",
              "0                   6                       42             6   Overweight   \n",
              "1                   6                       60             8       Normal   \n",
              "2                   6                       60             8       Normal   \n",
              "3                   4                       30             8        Obese   \n",
              "4                   4                       30             8        Obese   \n",
              "..                ...                      ...           ...          ...   \n",
              "369                 9                       75             3   Overweight   \n",
              "370                 9                       75             3   Overweight   \n",
              "371                 9                       75             3   Overweight   \n",
              "372                 9                       75             3   Overweight   \n",
              "373                 9                       75             3   Overweight   \n",
              "\n",
              "    Blood Pressure  Heart Rate  Daily Steps Sleep Disorder  \n",
              "0           126/83          77         4200           None  \n",
              "1           125/80          75        10000           None  \n",
              "2           125/80          75        10000           None  \n",
              "3           140/90          85         3000    Sleep Apnea  \n",
              "4           140/90          85         3000    Sleep Apnea  \n",
              "..             ...         ...          ...            ...  \n",
              "369         140/95          68         7000    Sleep Apnea  \n",
              "370         140/95          68         7000    Sleep Apnea  \n",
              "371         140/95          68         7000    Sleep Apnea  \n",
              "372         140/95          68         7000    Sleep Apnea  \n",
              "373         140/95          68         7000    Sleep Apnea  \n",
              "\n",
              "[374 rows x 13 columns]"
            ]
          },
          "execution_count": 9,
          "metadata": {},
          "output_type": "execute_result"
        }
      ],
      "source": [
        "# reading in our data using .read_csv another ways are\n",
        "# - pd.read_excel, pd.read_sql, pd.read_json, pd.read_html,\n",
        "\n",
        "df = pd.read_csv(\"/Users/evercampos/DataS/Sleep_health_and_lifestyle_dataset.csv\")\n",
        "df"
      ]
    },
    {
      "cell_type": "markdown",
      "metadata": {
        "id": "xUjD3E7SjlsJ"
      },
      "source": [
        "# As we read this csv file what can we learn from this data"
      ]
    },
    {
      "cell_type": "markdown",
      "metadata": {},
      "source": [
        "# participants consist of Male and Female"
      ]
    },
    {
      "cell_type": "code",
      "execution_count": 28,
      "metadata": {
        "id": "UmuXDeeSRekx"
      },
      "outputs": [
        {
          "name": "stdout",
          "output_type": "stream",
          "text": [
            "Male: 189\n",
            "Female: 185\n"
          ]
        }
      ],
      "source": [
        "\n",
        "Male = (df[\"Gender\"] == \"Male\").sum()\n",
        "Female = (df[\"Gender\"] == \"Female\").sum()\n",
        "print(\"Male: \" + str(Male))\n",
        "print(\"Female: \" + str(Female))\n"
      ]
    },
    {
      "cell_type": "markdown",
      "metadata": {},
      "source": [
        "# Occupations "
      ]
    },
    {
      "cell_type": "code",
      "execution_count": 32,
      "metadata": {},
      "outputs": [
        {
          "data": {
            "text/plain": [
              "array(['Software Engineer', 'Doctor', 'Sales Representative', 'Teacher',\n",
              "       'Nurse', 'Engineer', 'Accountant', 'Scientist', 'Lawyer',\n",
              "       'Salesperson', 'Manager'], dtype=object)"
            ]
          },
          "execution_count": 32,
          "metadata": {},
          "output_type": "execute_result"
        }
      ],
      "source": [
        "occup = df[\"Occupation\"].unique()\n",
        "occup"
      ]
    },
    {
      "cell_type": "code",
      "execution_count": 37,
      "metadata": {},
      "outputs": [],
      "source": [
        "\n",
        "# df.groupby('condition')[column_name].statistics_function()\n",
        "#df.groupby(df[\"Occupation\"])[\"Occupation\"].count()\n",
        "\n"
      ]
    },
    {
      "cell_type": "code",
      "execution_count": 36,
      "metadata": {},
      "outputs": [
        {
          "data": {
            "image/png": "[encoded data removed]",
            "text/plain": [
              "<Figure size 1000x600 with 1 Axes>"
            ]
          },
          "metadata": {},
          "output_type": "display_data"
        }
      ],
      "source": [
        "occupation_counts = df.groupby(df[\"Occupation\"])[\"Occupation\"].count()\n",
        "\n",
        "# Convert to DataFrame\n",
        "occupation_counts = occupation_counts.reset_index(name=\"Count\")\n",
        "\n",
        "# Plot using Matplotlib\n",
        "plt.figure(figsize=(10, 6))\n",
        "plt.bar(occupation_counts[\"Occupation\"], occupation_counts[\"Count\"])\n",
        "plt.xlabel(\"Occupation\")\n",
        "plt.ylabel(\"Count\")\n",
        "plt.title(\"Count of Participants by Occupation\")\n",
        "plt.xticks(rotation=45)  # Rotate x-axis labels for better readability\n",
        "plt.show()"
      ]
    },
    {
      "cell_type": "markdown",
      "metadata": {},
      "source": [
        "Summary\n",
        "Original Series: The result of the group-by operation is a Series with the index as occupations and counts as values.\n",
        "reset_index Method: Converts the Series into a DataFrame by turning the index into a column.\n",
        "name Parameter: Specifies the name for the new column that contains the Series values.\n",
        "The reset_index method is useful for converting a Series into a DataFrame and is often used after group-by operations to make the data easier to work with and plot."
      ]
    },
    {
      "cell_type": "markdown",
      "metadata": {},
      "source": [
        "# Average Age, Sleep, Daily Steps, Stress levels, Physical activity "
      ]
    },
    {
      "cell_type": "code",
      "execution_count": 46,
      "metadata": {},
      "outputs": [
        {
          "name": "stdout",
          "output_type": "stream",
          "text": [
            "Age average: 42.18449197860963Years Old\n",
            "Sleep average: 7.31283422459893 (scale: 1-10\n",
            "Steps average: 6816.844919786096steps\n",
            "Stress average: 5.385026737967914 (scale: 1-10)\n",
            "Physical activity (minutes/day) average: 59.17112299465241\n"
          ]
        }
      ],
      "source": [
        "age_avg = np.average(df[\"Age\"])\n",
        "print(\"Age average: \" + str(age_avg) + \"Years Old\")\n",
        "\n",
        "sleep_avg = np.average(df[\"Quality of Sleep\"])\n",
        "print(\"Sleep average: \" + str(sleep_avg) + \" (scale: 1-10)\")\n",
        "\n",
        "steps_avg = np.average(df[\"Daily Steps\"])\n",
        "print(\"Steps average: \" + str(steps_avg) + \"steps\")\n",
        "\n",
        "stress_avg = np.average(df[\"Stress Level\"])\n",
        "print(\"Stress average: \" + str(stress_avg) + \" (scale: 1-10)\")\n",
        "\n",
        "phys_avg = np.average(df[\"Physical Activity Level\"])\n",
        "print(\"Physical activity (minutes/day) average: \" + str(phys_avg))\n",
        "\n",
        "\n"
      ]
    },
    {
      "cell_type": "markdown",
      "metadata": {},
      "source": [
        "Avg age is 42 years old so were currenlty dealing with middle age adults."
      ]
    },
    {
      "cell_type": "code",
      "execution_count": 55,
      "metadata": {},
      "outputs": [
        {
          "data": {
            "image/png": "[encoded data removed]",
            "text/plain": [
              "<Figure size 1000x600 with 1 Axes>"
            ]
          },
          "metadata": {},
          "output_type": "display_data"
        }
      ],
      "source": [
        "# print(df[df[\"Gender\"] == \"Male\"].groupby(\"Quality of Sleep\")[\"Gender\"].count()) # will see sleep qulaity and occupation\n",
        "\n",
        "occupation_counts = df[df[\"Gender\"] == \"Male\"].groupby(\"Quality of Sleep\")[\"Gender\"].count()\n",
        "\n",
        "# Convert to DataFrame\n",
        "occupation_counts = occupation_counts.reset_index(name=\"Count\")\n",
        "\n",
        "# Plot using Matplotlib\n",
        "plt.figure(figsize=(10, 6))\n",
        "plt.bar(occupation_counts[\"Quality of Sleep\"], occupation_counts[\"Count\"])\n",
        "plt.xlabel(\"Quality of Sleep\")\n",
        "plt.ylabel(\"Count of men\")\n",
        "plt.title(\"Count of Participants of Men and their Quality of Sleep\")\n",
        "plt.xticks(rotation=0)  # Rotate x-axis labels for better readability\n",
        "plt.show()"
      ]
    },
    {
      "cell_type": "code",
      "execution_count": 64,
      "metadata": {},
      "outputs": [
        {
          "data": {
            "text/plain": [
              "<pandas.core.groupby.generic.SeriesGroupBy object at 0x7ff3d1388910>"
            ]
          },
          "execution_count": 64,
          "metadata": {},
          "output_type": "execute_result"
        }
      ],
      "source": [
        "men_avg_sleep = df.groupby(df[\"Gender\"] == \"Male\")[\"Quality of Sleep\"]\n",
        "men_avg_sleep"
      ]
    },
    {
      "cell_type": "code",
      "execution_count": 57,
      "metadata": {},
      "outputs": [
        {
          "data": {
            "image/png": "[encoded data removed]",
            "text/plain": [
              "<Figure size 1000x600 with 1 Axes>"
            ]
          },
          "metadata": {},
          "output_type": "display_data"
        }
      ],
      "source": [
        "occupation_counts = df[df[\"Gender\"] == \"Female\"].groupby(\"Quality of Sleep\")[\"Gender\"].count()\n",
        "\n",
        "# Convert to DataFrame\n",
        "occupation_counts = occupation_counts.reset_index(name=\"Count\")\n",
        "\n",
        "# Plot using Matplotlib\n",
        "plt.figure(figsize=(10, 6))\n",
        "plt.bar(occupation_counts[\"Quality of Sleep\"], occupation_counts[\"Count\"])\n",
        "plt.xlabel(\"Quality of Sleep\")\n",
        "plt.ylabel(\"Count of female\")\n",
        "plt.title(\"Count of Participants of Female and their Quality of Sleep\")\n",
        "plt.xticks(rotation=0)  # Rotate x-axis labels for better readability\n",
        "plt.show()"
      ]
    }
  ],
  "metadata": {
    "colab": {
      "provenance": []
    },
    "kernelspec": {
      "display_name": "Python 3",
      "name": "python3"
    },
    "language_info": {
      "codemirror_mode": {
        "name": "ipython",
        "version": 3
      },
      "file_extension": ".py",
      "mimetype": "text/x-python",
      "name": "python",
      "nbconvert_exporter": "python",
      "pygments_lexer": "ipython3",
      "version": "3.9.13"
    }
  },
  "nbformat": 4,
  "nbformat_minor": 0
}
